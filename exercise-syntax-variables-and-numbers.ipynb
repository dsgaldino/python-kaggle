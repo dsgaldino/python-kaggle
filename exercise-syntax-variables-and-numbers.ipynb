{
 "cells": [
  {
   "cell_type": "markdown",
   "id": "f06a337d",
   "metadata": {
    "papermill": {
     "duration": 0.011673,
     "end_time": "2023-08-31T09:51:41.186664",
     "exception": false,
     "start_time": "2023-08-31T09:51:41.174991",
     "status": "completed"
    },
    "tags": []
   },
   "source": [
    "**This notebook is an exercise in the [Python](https://www.kaggle.com/learn/python) course.  You can reference the tutorial at [this link](https://www.kaggle.com/colinmorris/hello-python).**\n",
    "\n",
    "---\n"
   ]
  },
  {
   "cell_type": "markdown",
   "id": "f60d4aa3",
   "metadata": {
    "papermill": {
     "duration": 0.010577,
     "end_time": "2023-08-31T09:51:41.208506",
     "exception": false,
     "start_time": "2023-08-31T09:51:41.197929",
     "status": "completed"
    },
    "tags": []
   },
   "source": [
    "Welcome to your first set of Python coding problems.  If this is your first time using Kaggle Notebooks, welcome! \n",
    "\n",
    "Notebooks are composed of blocks (called \"cells\") of text and code. Each of these is editable, though you'll mainly be editing the code cells to answer some questions.\n",
    "\n",
    "To get started, try running the code cell below (by pressing the ► button, or clicking on the cell and pressing ctrl+enter on your keyboard)."
   ]
  },
  {
   "cell_type": "code",
   "execution_count": 1,
   "id": "cddae615",
   "metadata": {
    "execution": {
     "iopub.execute_input": "2023-08-31T09:51:41.232601Z",
     "iopub.status.busy": "2023-08-31T09:51:41.231872Z",
     "iopub.status.idle": "2023-08-31T09:51:41.243829Z",
     "shell.execute_reply": "2023-08-31T09:51:41.242980Z"
    },
    "papermill": {
     "duration": 0.026793,
     "end_time": "2023-08-31T09:51:41.246346",
     "exception": false,
     "start_time": "2023-08-31T09:51:41.219553",
     "status": "completed"
    },
    "tags": []
   },
   "outputs": [
    {
     "name": "stdout",
     "output_type": "stream",
     "text": [
      "You've successfully run some Python code\n",
      "Congratulations!\n"
     ]
    }
   ],
   "source": [
    "print(\"You've successfully run some Python code\")\n",
    "print(\"Congratulations!\")"
   ]
  },
  {
   "cell_type": "markdown",
   "id": "b0bdcd21",
   "metadata": {
    "papermill": {
     "duration": 0.010797,
     "end_time": "2023-08-31T09:51:41.268509",
     "exception": false,
     "start_time": "2023-08-31T09:51:41.257712",
     "status": "completed"
    },
    "tags": []
   },
   "source": [
    "Try adding another line of code in the cell above and re-running it. \n",
    "\n",
    "Now let's get a little fancier:  Add a new code cell by clicking on an existing code cell, hitting the escape key, and then hitting the `a` or `b` key.  The `a` key will add a cell above the current cell, and `b` adds a cell below.\n",
    "\n",
    "Great! Now you know how to use Notebooks.\n",
    "\n",
    "Each hands-on exercise starts by setting up our feedback and code checking mechanism. Run the code cell below to do that. Then you'll be ready to move on to question 0."
   ]
  },
  {
   "cell_type": "code",
   "execution_count": 2,
   "id": "4857199e",
   "metadata": {
    "_kg_hide-input": true,
    "_kg_hide-output": true,
    "execution": {
     "iopub.execute_input": "2023-08-31T09:51:41.293456Z",
     "iopub.status.busy": "2023-08-31T09:51:41.293014Z",
     "iopub.status.idle": "2023-08-31T09:51:41.336538Z",
     "shell.execute_reply": "2023-08-31T09:51:41.335418Z"
    },
    "papermill": {
     "duration": 0.058027,
     "end_time": "2023-08-31T09:51:41.338941",
     "exception": false,
     "start_time": "2023-08-31T09:51:41.280914",
     "status": "completed"
    },
    "tags": []
   },
   "outputs": [
    {
     "name": "stdout",
     "output_type": "stream",
     "text": [
      "Setup complete! You're ready to start question 0.\n"
     ]
    }
   ],
   "source": [
    "from learntools.core import binder; binder.bind(globals())\n",
    "from learntools.python.ex1 import *\n",
    "print(\"Setup complete! You're ready to start question 0.\")"
   ]
  },
  {
   "cell_type": "markdown",
   "id": "00b9a9eb",
   "metadata": {
    "papermill": {
     "duration": 0.01076,
     "end_time": "2023-08-31T09:51:41.360993",
     "exception": false,
     "start_time": "2023-08-31T09:51:41.350233",
     "status": "completed"
    },
    "tags": []
   },
   "source": [
    "# 0.\n",
    "\n",
    "*This is a silly question intended as an introduction to the format we use for hands-on exercises throughout all Kaggle courses.*\n",
    "\n",
    "**What is your favorite color? **\n",
    "\n",
    "To complete this question, create a variable called `color` in the cell below with an appropriate value. The function call `q0.check()` (which we've already provided in the cell below) will check your answer."
   ]
  },
  {
   "cell_type": "code",
   "execution_count": 3,
   "id": "bf791f6a",
   "metadata": {
    "execution": {
     "iopub.execute_input": "2023-08-31T09:51:41.386061Z",
     "iopub.status.busy": "2023-08-31T09:51:41.384944Z",
     "iopub.status.idle": "2023-08-31T09:51:41.396468Z",
     "shell.execute_reply": "2023-08-31T09:51:41.395260Z"
    },
    "papermill": {
     "duration": 0.026327,
     "end_time": "2023-08-31T09:51:41.398589",
     "exception": false,
     "start_time": "2023-08-31T09:51:41.372262",
     "status": "completed"
    },
    "tags": []
   },
   "outputs": [
    {
     "data": {
      "application/javascript": [
       "parent.postMessage({\"jupyterEvent\": \"custom.exercise_interaction\", \"data\": {\"outcomeType\": 1, \"valueTowardsCompletion\": 0.25, \"interactionType\": 1, \"questionType\": 2, \"questionId\": \"0_ExerciseFormatTutorial\", \"learnToolsVersion\": \"0.3.4\", \"failureMessage\": \"\", \"exceptionClass\": \"\", \"trace\": \"\"}}, \"*\")"
      ],
      "text/plain": [
       "<IPython.core.display.Javascript object>"
      ]
     },
     "metadata": {},
     "output_type": "display_data"
    },
    {
     "data": {
      "text/markdown": [
       "<span style=\"color:#33cc33\">Correct:</span> What?! You got it right without needing a hint or anything? Drats. Well hey, you should still continue to the next step to get some practice asking for a hint and checking solutions. (Even though you obviously don't need any help here.)"
      ],
      "text/plain": [
       "Correct: What?! You got it right without needing a hint or anything? Drats. Well hey, you should still continue to the next step to get some practice asking for a hint and checking solutions. (Even though you obviously don't need any help here.)"
      ]
     },
     "metadata": {},
     "output_type": "display_data"
    }
   ],
   "source": [
    "# create a variable called color with an appropriate value on the line below\n",
    "# (Remember, strings in Python must be enclosed in 'single' or \"double\" quotes)\n",
    "____\n",
    "color = \"Blue\"\n",
    "\n",
    "# Check your answer\n",
    "q0.check()"
   ]
  },
  {
   "cell_type": "markdown",
   "id": "27f9f1fa",
   "metadata": {
    "papermill": {
     "duration": 0.011418,
     "end_time": "2023-08-31T09:51:41.421804",
     "exception": false,
     "start_time": "2023-08-31T09:51:41.410386",
     "status": "completed"
    },
    "tags": []
   },
   "source": [
    "Didn't get the right answer? How do you not even know your own favorite color?!\n",
    "\n",
    "Delete the `#` in the line below to make one of the lines run. You can choose between getting a hint or the full answer by choosing which line to remove the `#` from. \n",
    "\n",
    "Removing the `#` is called uncommenting, because it changes that line from a \"comment\" which Python doesn't run to code, which Python does run."
   ]
  },
  {
   "cell_type": "code",
   "execution_count": 4,
   "id": "a7ec42fe",
   "metadata": {
    "execution": {
     "iopub.execute_input": "2023-08-31T09:51:41.447055Z",
     "iopub.status.busy": "2023-08-31T09:51:41.446654Z",
     "iopub.status.idle": "2023-08-31T09:51:41.455619Z",
     "shell.execute_reply": "2023-08-31T09:51:41.454602Z"
    },
    "papermill": {
     "duration": 0.024217,
     "end_time": "2023-08-31T09:51:41.457894",
     "exception": false,
     "start_time": "2023-08-31T09:51:41.433677",
     "status": "completed"
    },
    "tags": []
   },
   "outputs": [
    {
     "data": {
      "application/javascript": [
       "parent.postMessage({\"jupyterEvent\": \"custom.exercise_interaction\", \"data\": {\"interactionType\": 2, \"questionType\": 2, \"questionId\": \"0_ExerciseFormatTutorial\", \"learnToolsVersion\": \"0.3.4\", \"valueTowardsCompletion\": 0.0, \"failureMessage\": \"\", \"exceptionClass\": \"\", \"trace\": \"\", \"outcomeType\": 4}}, \"*\")"
      ],
      "text/plain": [
       "<IPython.core.display.Javascript object>"
      ]
     },
     "metadata": {},
     "output_type": "display_data"
    },
    {
     "data": {
      "text/markdown": [
       "<span style=\"color:#3366cc\">Hint:</span> Your favorite color rhymes with *glue*."
      ],
      "text/plain": [
       "Hint: Your favorite color rhymes with *glue*."
      ]
     },
     "metadata": {},
     "output_type": "display_data"
    }
   ],
   "source": [
    "q0.hint()\n",
    "#q0.solution()"
   ]
  },
  {
   "cell_type": "markdown",
   "id": "8f4ef437",
   "metadata": {
    "papermill": {
     "duration": 0.011658,
     "end_time": "2023-08-31T09:51:41.481442",
     "exception": false,
     "start_time": "2023-08-31T09:51:41.469784",
     "status": "completed"
    },
    "tags": []
   },
   "source": [
    "The upcoming questions work the same way. The only thing that will change are the question numbers. For the next question, you'll call `q1.check()`, `q1.hint()`, `q1.solution()`, for question 2, you'll call `q2.check()`, and so on."
   ]
  },
  {
   "cell_type": "markdown",
   "id": "aec142fb",
   "metadata": {
    "papermill": {
     "duration": 0.011656,
     "end_time": "2023-08-31T09:51:41.504982",
     "exception": false,
     "start_time": "2023-08-31T09:51:41.493326",
     "status": "completed"
    },
    "tags": []
   },
   "source": [
    "<hr/>\n",
    "\n",
    "# 1.\n",
    "\n",
    "Complete the code below. In case it's helpful, here is the table of available arithmetic operations:\n",
    "\n",
    "\n",
    "\n",
    "| Operator     | Name           | Description                                            |\n",
    "|--------------|----------------|--------------------------------------------------------|\n",
    "| ``a + b``    | Addition       | Sum of ``a`` and ``b``                                 |\n",
    "| ``a - b``    | Subtraction    | Difference of ``a`` and ``b``                          |\n",
    "| ``a * b``    | Multiplication | Product of ``a`` and ``b``                             |\n",
    "| ``a / b``    | True division  | Quotient of ``a`` and ``b``                            |\n",
    "| ``a // b``   | Floor division | Quotient of ``a`` and ``b``, removing fractional parts |\n",
    "| ``a % b``    | Modulus        | Integer remainder after division of ``a`` by ``b``     |\n",
    "| ``a ** b``   | Exponentiation | ``a`` raised to the power of ``b``                     |\n",
    "| ``-a``       | Negation       | The negative of ``a``                                  |\n",
    "\n",
    "<span style=\"display:none\"></span>\n"
   ]
  },
  {
   "cell_type": "code",
   "execution_count": 5,
   "id": "5f8878e7",
   "metadata": {
    "execution": {
     "iopub.execute_input": "2023-08-31T09:51:41.531118Z",
     "iopub.status.busy": "2023-08-31T09:51:41.530680Z",
     "iopub.status.idle": "2023-08-31T09:51:41.541708Z",
     "shell.execute_reply": "2023-08-31T09:51:41.540489Z"
    },
    "papermill": {
     "duration": 0.026771,
     "end_time": "2023-08-31T09:51:41.544122",
     "exception": false,
     "start_time": "2023-08-31T09:51:41.517351",
     "status": "completed"
    },
    "tags": []
   },
   "outputs": [
    {
     "data": {
      "application/javascript": [
       "parent.postMessage({\"jupyterEvent\": \"custom.exercise_interaction\", \"data\": {\"outcomeType\": 1, \"valueTowardsCompletion\": 0.25, \"interactionType\": 1, \"questionType\": 1, \"questionId\": \"1_CircleArea\", \"learnToolsVersion\": \"0.3.4\", \"failureMessage\": \"\", \"exceptionClass\": \"\", \"trace\": \"\"}}, \"*\")"
      ],
      "text/plain": [
       "<IPython.core.display.Javascript object>"
      ]
     },
     "metadata": {},
     "output_type": "display_data"
    },
    {
     "data": {
      "text/markdown": [
       "<span style=\"color:#33cc33\">Correct</span>"
      ],
      "text/plain": [
       "Correct"
      ]
     },
     "metadata": {},
     "output_type": "display_data"
    }
   ],
   "source": [
    "pi = 3.14159 # approximate\n",
    "diameter = 3\n",
    "\n",
    "# Create a variable called 'radius' equal to half the diameter\n",
    "\n",
    "radius = diameter / 2\n",
    "____\n",
    "\n",
    "# Create a variable called 'area', using the formula for the area of a circle: pi times the radius squared\n",
    "\n",
    "area = pi * (radius * radius)\n",
    "area = pi * (radius ** 2)\n",
    "____\n",
    "\n",
    "# Check your answer\n",
    "q1.check()"
   ]
  },
  {
   "cell_type": "code",
   "execution_count": 6,
   "id": "33379bdc",
   "metadata": {
    "execution": {
     "iopub.execute_input": "2023-08-31T09:51:41.570611Z",
     "iopub.status.busy": "2023-08-31T09:51:41.570203Z",
     "iopub.status.idle": "2023-08-31T09:51:41.574993Z",
     "shell.execute_reply": "2023-08-31T09:51:41.573787Z"
    },
    "papermill": {
     "duration": 0.021057,
     "end_time": "2023-08-31T09:51:41.577530",
     "exception": false,
     "start_time": "2023-08-31T09:51:41.556473",
     "status": "completed"
    },
    "tags": []
   },
   "outputs": [],
   "source": [
    "# Uncomment and run the lines below if you need help.\n",
    "#q1.hint()\n",
    "#q1.solution()"
   ]
  },
  {
   "cell_type": "markdown",
   "id": "a0da7094",
   "metadata": {
    "papermill": {
     "duration": 0.012035,
     "end_time": "2023-08-31T09:51:41.601942",
     "exception": false,
     "start_time": "2023-08-31T09:51:41.589907",
     "status": "completed"
    },
    "tags": []
   },
   "source": [
    "<hr/>\n",
    "\n",
    "# 2.\n",
    "\n",
    "Add code to the following cell to swap variables `a` and `b` (so that `a` refers to the object previously referred to by `b` and vice versa)."
   ]
  },
  {
   "cell_type": "code",
   "execution_count": 7,
   "id": "12169bd8",
   "metadata": {
    "execution": {
     "iopub.execute_input": "2023-08-31T09:51:41.628324Z",
     "iopub.status.busy": "2023-08-31T09:51:41.627924Z",
     "iopub.status.idle": "2023-08-31T09:51:41.638801Z",
     "shell.execute_reply": "2023-08-31T09:51:41.637554Z"
    },
    "papermill": {
     "duration": 0.026803,
     "end_time": "2023-08-31T09:51:41.641247",
     "exception": false,
     "start_time": "2023-08-31T09:51:41.614444",
     "status": "completed"
    },
    "tags": []
   },
   "outputs": [
    {
     "data": {
      "application/javascript": [
       "parent.postMessage({\"jupyterEvent\": \"custom.exercise_interaction\", \"data\": {\"outcomeType\": 1, \"valueTowardsCompletion\": 0.25, \"interactionType\": 1, \"questionType\": 2, \"questionId\": \"2_VariableSwap\", \"learnToolsVersion\": \"0.3.4\", \"failureMessage\": \"\", \"exceptionClass\": \"\", \"trace\": \"\"}}, \"*\")"
      ],
      "text/plain": [
       "<IPython.core.display.Javascript object>"
      ]
     },
     "metadata": {},
     "output_type": "display_data"
    },
    {
     "data": {
      "text/markdown": [
       "<span style=\"color:#33cc33\">Correct:</span> \n",
       "\n",
       "The most straightforward solution is to use a third variable to temporarily store one of the old values. e.g.:\n",
       "\n",
       "    tmp = a\n",
       "    a = b\n",
       "    b = tmp\n",
       "\n",
       "If you've read lots of Python code, you might have seen the following trick to swap two variables in one line:\n",
       "\n",
       "    a, b = b, a\n",
       "\n",
       "We'll demystify this bit of Python magic later when we talk about *tuples*."
      ],
      "text/plain": [
       "Correct: \n",
       "\n",
       "The most straightforward solution is to use a third variable to temporarily store one of the old values. e.g.:\n",
       "\n",
       "    tmp = a\n",
       "    a = b\n",
       "    b = tmp\n",
       "\n",
       "If you've read lots of Python code, you might have seen the following trick to swap two variables in one line:\n",
       "\n",
       "    a, b = b, a\n",
       "\n",
       "We'll demystify this bit of Python magic later when we talk about *tuples*."
      ]
     },
     "metadata": {},
     "output_type": "display_data"
    }
   ],
   "source": [
    "########### Setup code - don't touch this part ######################\n",
    "# If you're curious, these are examples of lists. We'll talk about \n",
    "# them in depth a few lessons from now. For now, just know that they're\n",
    "# yet another type of Python object, like int or float.\n",
    "a = [1, 2, 3]\n",
    "b = [3, 2, 1]\n",
    "q2.store_original_ids()\n",
    "######################################################################\n",
    "\n",
    "# Your code goes here. Swap the values to which a and b refer.\n",
    "# If you get stuck, you can always uncomment one or both of the lines in\n",
    "# the next cell for a hint, or to peek at the solution.\n",
    "\n",
    "a, b = b, a\n",
    "\n",
    "# temp = a\n",
    "# a = b\n",
    "# b = temp\n",
    "\n",
    "######################################################################\n",
    "\n",
    "# Check your answer\n",
    "q2.check()"
   ]
  },
  {
   "cell_type": "code",
   "execution_count": 8,
   "id": "6bb588ec",
   "metadata": {
    "execution": {
     "iopub.execute_input": "2023-08-31T09:51:41.668440Z",
     "iopub.status.busy": "2023-08-31T09:51:41.668014Z",
     "iopub.status.idle": "2023-08-31T09:51:41.673081Z",
     "shell.execute_reply": "2023-08-31T09:51:41.671776Z"
    },
    "papermill": {
     "duration": 0.0227,
     "end_time": "2023-08-31T09:51:41.676608",
     "exception": false,
     "start_time": "2023-08-31T09:51:41.653908",
     "status": "completed"
    },
    "tags": []
   },
   "outputs": [],
   "source": [
    "#q2.hint()"
   ]
  },
  {
   "cell_type": "code",
   "execution_count": 9,
   "id": "9274f27b",
   "metadata": {
    "execution": {
     "iopub.execute_input": "2023-08-31T09:51:41.703837Z",
     "iopub.status.busy": "2023-08-31T09:51:41.703455Z",
     "iopub.status.idle": "2023-08-31T09:51:41.708047Z",
     "shell.execute_reply": "2023-08-31T09:51:41.706900Z"
    },
    "papermill": {
     "duration": 0.021028,
     "end_time": "2023-08-31T09:51:41.710469",
     "exception": false,
     "start_time": "2023-08-31T09:51:41.689441",
     "status": "completed"
    },
    "tags": []
   },
   "outputs": [],
   "source": [
    "#q2.solution()"
   ]
  },
  {
   "cell_type": "markdown",
   "id": "7e9deb91",
   "metadata": {
    "papermill": {
     "duration": 0.012517,
     "end_time": "2023-08-31T09:51:41.735744",
     "exception": false,
     "start_time": "2023-08-31T09:51:41.723227",
     "status": "completed"
    },
    "tags": []
   },
   "source": [
    "<hr/>\n",
    "\n",
    "# 3a.\n",
    "\n",
    "Add parentheses to the following expression so that it evaluates to 1."
   ]
  },
  {
   "cell_type": "code",
   "execution_count": 10,
   "id": "4509da6d",
   "metadata": {
    "execution": {
     "iopub.execute_input": "2023-08-31T09:51:41.763008Z",
     "iopub.status.busy": "2023-08-31T09:51:41.762569Z",
     "iopub.status.idle": "2023-08-31T09:51:41.769284Z",
     "shell.execute_reply": "2023-08-31T09:51:41.768379Z"
    },
    "papermill": {
     "duration": 0.023802,
     "end_time": "2023-08-31T09:51:41.771892",
     "exception": false,
     "start_time": "2023-08-31T09:51:41.748090",
     "status": "completed"
    },
    "tags": []
   },
   "outputs": [
    {
     "data": {
      "text/plain": [
       "1"
      ]
     },
     "execution_count": 10,
     "metadata": {},
     "output_type": "execute_result"
    }
   ],
   "source": [
    "(5 - 3) // 2"
   ]
  },
  {
   "cell_type": "code",
   "execution_count": 11,
   "id": "40c695b5",
   "metadata": {
    "execution": {
     "iopub.execute_input": "2023-08-31T09:51:41.798992Z",
     "iopub.status.busy": "2023-08-31T09:51:41.798583Z",
     "iopub.status.idle": "2023-08-31T09:51:41.804214Z",
     "shell.execute_reply": "2023-08-31T09:51:41.802851Z"
    },
    "papermill": {
     "duration": 0.021935,
     "end_time": "2023-08-31T09:51:41.806585",
     "exception": false,
     "start_time": "2023-08-31T09:51:41.784650",
     "status": "completed"
    },
    "tags": []
   },
   "outputs": [],
   "source": [
    "#q3.a.hint()"
   ]
  },
  {
   "cell_type": "code",
   "execution_count": 12,
   "id": "3556391d",
   "metadata": {
    "execution": {
     "iopub.execute_input": "2023-08-31T09:51:41.834458Z",
     "iopub.status.busy": "2023-08-31T09:51:41.833975Z",
     "iopub.status.idle": "2023-08-31T09:51:41.842510Z",
     "shell.execute_reply": "2023-08-31T09:51:41.841586Z"
    },
    "papermill": {
     "duration": 0.025069,
     "end_time": "2023-08-31T09:51:41.844804",
     "exception": false,
     "start_time": "2023-08-31T09:51:41.819735",
     "status": "completed"
    },
    "tags": []
   },
   "outputs": [
    {
     "data": {
      "application/javascript": [
       "parent.postMessage({\"jupyterEvent\": \"custom.exercise_interaction\", \"data\": {\"interactionType\": 3, \"questionType\": 4, \"questionId\": \"3.1_ArithmeticParensEasy\", \"learnToolsVersion\": \"0.3.4\", \"valueTowardsCompletion\": 0.0, \"failureMessage\": \"\", \"exceptionClass\": \"\", \"trace\": \"\", \"outcomeType\": 4}}, \"*\")"
      ],
      "text/plain": [
       "<IPython.core.display.Javascript object>"
      ]
     },
     "metadata": {},
     "output_type": "display_data"
    },
    {
     "data": {
      "text/markdown": [
       "<span style=\"color:#33cc99\">Solution:</span> \n",
       "```python\n",
       "(5 - 3) // 2\n",
       "```"
      ],
      "text/plain": [
       "Solution: \n",
       "```python\n",
       "(5 - 3) // 2\n",
       "```"
      ]
     },
     "metadata": {},
     "output_type": "display_data"
    }
   ],
   "source": [
    "# Check your answer (Run this code cell to receive credit!)\n",
    "q3.a.solution()"
   ]
  },
  {
   "cell_type": "markdown",
   "id": "8aa41b96",
   "metadata": {
    "papermill": {
     "duration": 0.01289,
     "end_time": "2023-08-31T09:51:41.871046",
     "exception": false,
     "start_time": "2023-08-31T09:51:41.858156",
     "status": "completed"
    },
    "tags": []
   },
   "source": [
    "# 3b.  <span title=\"A bit spicy\" style=\"color: darkgreen \">🌶️</span>\n",
    "\n",
    "<small>Questions, like this one, marked a spicy pepper are a bit harder.</small>\n",
    "\n",
    "Add parentheses to the following expression so that it evaluates to 0."
   ]
  },
  {
   "cell_type": "code",
   "execution_count": 13,
   "id": "2d192dc8",
   "metadata": {
    "execution": {
     "iopub.execute_input": "2023-08-31T09:51:41.899396Z",
     "iopub.status.busy": "2023-08-31T09:51:41.898955Z",
     "iopub.status.idle": "2023-08-31T09:51:41.906449Z",
     "shell.execute_reply": "2023-08-31T09:51:41.905320Z"
    },
    "papermill": {
     "duration": 0.02484,
     "end_time": "2023-08-31T09:51:41.908862",
     "exception": false,
     "start_time": "2023-08-31T09:51:41.884022",
     "status": "completed"
    },
    "tags": []
   },
   "outputs": [
    {
     "data": {
      "text/plain": [
       "0"
      ]
     },
     "execution_count": 13,
     "metadata": {},
     "output_type": "execute_result"
    }
   ],
   "source": [
    "(8 - 3) * (2 - (1 + 1))"
   ]
  },
  {
   "cell_type": "code",
   "execution_count": 14,
   "id": "96adc69a",
   "metadata": {
    "execution": {
     "iopub.execute_input": "2023-08-31T09:51:41.937979Z",
     "iopub.status.busy": "2023-08-31T09:51:41.937561Z",
     "iopub.status.idle": "2023-08-31T09:51:41.942514Z",
     "shell.execute_reply": "2023-08-31T09:51:41.941331Z"
    },
    "papermill": {
     "duration": 0.022479,
     "end_time": "2023-08-31T09:51:41.944823",
     "exception": false,
     "start_time": "2023-08-31T09:51:41.922344",
     "status": "completed"
    },
    "tags": []
   },
   "outputs": [],
   "source": [
    "#q3.b.hint()"
   ]
  },
  {
   "cell_type": "code",
   "execution_count": 15,
   "id": "616cad6d",
   "metadata": {
    "execution": {
     "iopub.execute_input": "2023-08-31T09:51:41.973718Z",
     "iopub.status.busy": "2023-08-31T09:51:41.972946Z",
     "iopub.status.idle": "2023-08-31T09:51:41.983500Z",
     "shell.execute_reply": "2023-08-31T09:51:41.982454Z"
    },
    "papermill": {
     "duration": 0.027667,
     "end_time": "2023-08-31T09:51:41.985732",
     "exception": false,
     "start_time": "2023-08-31T09:51:41.958065",
     "status": "completed"
    },
    "tags": []
   },
   "outputs": [
    {
     "data": {
      "application/javascript": [
       "parent.postMessage({\"jupyterEvent\": \"custom.exercise_interaction\", \"data\": {\"interactionType\": 3, \"questionType\": 4, \"questionId\": \"3.2_ArithmeticParensHard\", \"learnToolsVersion\": \"0.3.4\", \"valueTowardsCompletion\": 0.0, \"failureMessage\": \"\", \"exceptionClass\": \"\", \"trace\": \"\", \"outcomeType\": 4}}, \"*\")"
      ],
      "text/plain": [
       "<IPython.core.display.Javascript object>"
      ]
     },
     "metadata": {},
     "output_type": "display_data"
    },
    {
     "data": {
      "text/markdown": [
       "<span style=\"color:#33cc99\">Solution:</span> `(8 - 3) * (2 - (1 + 1))` is one solution. There may be others."
      ],
      "text/plain": [
       "Solution: `(8 - 3) * (2 - (1 + 1))` is one solution. There may be others."
      ]
     },
     "metadata": {},
     "output_type": "display_data"
    }
   ],
   "source": [
    "# Check your answer (Run this code cell to receive credit!)\n",
    "q3.b.solution()"
   ]
  },
  {
   "cell_type": "markdown",
   "id": "e5aa53bc",
   "metadata": {
    "papermill": {
     "duration": 0.013735,
     "end_time": "2023-08-31T09:51:42.013057",
     "exception": false,
     "start_time": "2023-08-31T09:51:41.999322",
     "status": "completed"
    },
    "tags": []
   },
   "source": [
    "<hr/>\n",
    "\n",
    "# 4. \n",
    "Alice, Bob and Carol have agreed to pool their Halloween candy and split it evenly among themselves.\n",
    "For the sake of their friendship, any candies left over will be smashed. For example, if they collectively\n",
    "bring home 91 candies, they'll take 30 each and smash 1.\n",
    "\n",
    "Write an arithmetic expression below to calculate how many candies they must smash for a given haul."
   ]
  },
  {
   "cell_type": "code",
   "execution_count": 16,
   "id": "a2d39ede",
   "metadata": {
    "execution": {
     "iopub.execute_input": "2023-08-31T09:51:42.042208Z",
     "iopub.status.busy": "2023-08-31T09:51:42.041818Z",
     "iopub.status.idle": "2023-08-31T09:51:42.052428Z",
     "shell.execute_reply": "2023-08-31T09:51:42.051317Z"
    },
    "papermill": {
     "duration": 0.028048,
     "end_time": "2023-08-31T09:51:42.055009",
     "exception": false,
     "start_time": "2023-08-31T09:51:42.026961",
     "status": "completed"
    },
    "tags": []
   },
   "outputs": [
    {
     "data": {
      "application/javascript": [
       "parent.postMessage({\"jupyterEvent\": \"custom.exercise_interaction\", \"data\": {\"outcomeType\": 1, \"valueTowardsCompletion\": 0.25, \"interactionType\": 1, \"questionType\": 1, \"questionId\": \"4_CandySplitting\", \"learnToolsVersion\": \"0.3.4\", \"failureMessage\": \"\", \"exceptionClass\": \"\", \"trace\": \"\"}}, \"*\")"
      ],
      "text/plain": [
       "<IPython.core.display.Javascript object>"
      ]
     },
     "metadata": {},
     "output_type": "display_data"
    },
    {
     "data": {
      "text/markdown": [
       "<span style=\"color:#33cc33\">Correct</span>"
      ],
      "text/plain": [
       "Correct"
      ]
     },
     "metadata": {},
     "output_type": "display_data"
    }
   ],
   "source": [
    "# Variables representing the number of candies collected by alice, bob, and carol\n",
    "alice_candies = 121\n",
    "bob_candies = 77\n",
    "carol_candies = 109\n",
    "\n",
    "# Your code goes here! Replace the right-hand side of this assignment with an expression\n",
    "# involving alice_candies, bob_candies, and carol_candies\n",
    "to_smash = (alice_candies + bob_candies + carol_candies) % 3\n",
    "\n",
    "# Check your answer\n",
    "q4.check()"
   ]
  },
  {
   "cell_type": "code",
   "execution_count": 17,
   "id": "d3f8ad44",
   "metadata": {
    "execution": {
     "iopub.execute_input": "2023-08-31T09:51:42.085132Z",
     "iopub.status.busy": "2023-08-31T09:51:42.084745Z",
     "iopub.status.idle": "2023-08-31T09:51:42.089610Z",
     "shell.execute_reply": "2023-08-31T09:51:42.088296Z"
    },
    "papermill": {
     "duration": 0.023179,
     "end_time": "2023-08-31T09:51:42.092230",
     "exception": false,
     "start_time": "2023-08-31T09:51:42.069051",
     "status": "completed"
    },
    "tags": []
   },
   "outputs": [],
   "source": [
    "#q4.hint()\n",
    "#q4.solution()"
   ]
  },
  {
   "cell_type": "markdown",
   "id": "c8d1357c",
   "metadata": {
    "papermill": {
     "duration": 0.014025,
     "end_time": "2023-08-31T09:51:42.120216",
     "exception": false,
     "start_time": "2023-08-31T09:51:42.106191",
     "status": "completed"
    },
    "tags": []
   },
   "source": [
    "# Keep Going\n",
    "\n",
    "Next up, you'll **[learn to write new functions and understand functions others write](https://www.kaggle.com/colinmorris/functions-and-getting-help)**. This will make you at least 10 times more productive as a Python programmer. "
   ]
  },
  {
   "cell_type": "markdown",
   "id": "2d220df0",
   "metadata": {
    "papermill": {
     "duration": 0.013748,
     "end_time": "2023-08-31T09:51:42.148201",
     "exception": false,
     "start_time": "2023-08-31T09:51:42.134453",
     "status": "completed"
    },
    "tags": []
   },
   "source": [
    "---\n",
    "\n",
    "\n",
    "\n",
    "\n",
    "*Have questions or comments? Visit the [course discussion forum](https://www.kaggle.com/learn/python/discussion) to chat with other learners.*"
   ]
  }
 ],
 "kernelspec": {
  "display_name": "Python 3",
  "language": "python",
  "name": "python3"
 },
 "language_info": {
  "codemirror_mode": {
   "name": "ipython",
   "version": 3
  },
  "file_extension": ".py",
  "mimetype": "text/x-python",
  "name": "python",
  "nbconvert_exporter": "python",
  "pygments_lexer": "ipython3",
  "version": "3.6.4"
 },
 "metadata": {
  "kernelspec": {
   "display_name": "Python 3",
   "language": "python",
   "name": "python3"
  },
  "language_info": {
   "codemirror_mode": {
    "name": "ipython",
    "version": 3
   },
   "file_extension": ".py",
   "mimetype": "text/x-python",
   "name": "python",
   "nbconvert_exporter": "python",
   "pygments_lexer": "ipython3",
   "version": "3.10.12"
  },
  "learntools_metadata": {
   "lesson_index": 0,
   "type": "exercise"
  },
  "papermill": {
   "default_parameters": {},
   "duration": 14.098649,
   "end_time": "2023-08-31T09:51:43.085736",
   "environment_variables": {},
   "exception": null,
   "input_path": "__notebook__.ipynb",
   "output_path": "__notebook__.ipynb",
   "parameters": {},
   "start_time": "2023-08-31T09:51:28.987087",
   "version": "2.4.0"
  }
 },
 "nbformat": 4,
 "nbformat_minor": 5
}
