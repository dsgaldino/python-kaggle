{
 "cells": [
  {
   "cell_type": "markdown",
   "id": "f36aacbd",
   "metadata": {
    "papermill": {
     "duration": 0.007958,
     "end_time": "2023-09-01T11:27:15.420831",
     "exception": false,
     "start_time": "2023-09-01T11:27:15.412873",
     "status": "completed"
    },
    "tags": []
   },
   "source": [
    "**This notebook is an exercise in the [Python](https://www.kaggle.com/learn/python) course.  You can reference the tutorial at [this link](https://www.kaggle.com/colinmorris/loops-and-list-comprehensions).**\n",
    "\n",
    "---\n"
   ]
  },
  {
   "cell_type": "markdown",
   "id": "51301943",
   "metadata": {
    "papermill": {
     "duration": 0.006075,
     "end_time": "2023-09-01T11:27:15.433483",
     "exception": false,
     "start_time": "2023-09-01T11:27:15.427408",
     "status": "completed"
    },
    "tags": []
   },
   "source": [
    "With all you've learned, you can start writing much more interesting programs. See if you can solve the problems below.\n",
    "\n",
    "As always, run the setup code below before working on the questions."
   ]
  },
  {
   "cell_type": "code",
   "execution_count": 1,
   "id": "01a559f4",
   "metadata": {
    "execution": {
     "iopub.execute_input": "2023-09-01T11:27:15.448903Z",
     "iopub.status.busy": "2023-09-01T11:27:15.448349Z",
     "iopub.status.idle": "2023-09-01T11:27:15.837228Z",
     "shell.execute_reply": "2023-09-01T11:27:15.836184Z"
    },
    "papermill": {
     "duration": 0.399965,
     "end_time": "2023-09-01T11:27:15.839859",
     "exception": false,
     "start_time": "2023-09-01T11:27:15.439894",
     "status": "completed"
    },
    "tags": []
   },
   "outputs": [
    {
     "name": "stdout",
     "output_type": "stream",
     "text": [
      "Setup complete.\n"
     ]
    }
   ],
   "source": [
    "from learntools.core import binder; binder.bind(globals())\n",
    "from learntools.python.ex5 import *\n",
    "print('Setup complete.')"
   ]
  },
  {
   "cell_type": "markdown",
   "id": "ea75f370",
   "metadata": {
    "papermill": {
     "duration": 0.006887,
     "end_time": "2023-09-01T11:27:15.854872",
     "exception": false,
     "start_time": "2023-09-01T11:27:15.847985",
     "status": "completed"
    },
    "tags": []
   },
   "source": [
    "# 1.\n",
    "\n",
    "Have you ever felt debugging involved a bit of luck? The following program has a bug. Try to identify the bug and fix it."
   ]
  },
  {
   "cell_type": "code",
   "execution_count": 2,
   "id": "f5e1e1eb",
   "metadata": {
    "execution": {
     "iopub.execute_input": "2023-09-01T11:27:15.869484Z",
     "iopub.status.busy": "2023-09-01T11:27:15.869033Z",
     "iopub.status.idle": "2023-09-01T11:27:15.874351Z",
     "shell.execute_reply": "2023-09-01T11:27:15.873341Z"
    },
    "papermill": {
     "duration": 0.015724,
     "end_time": "2023-09-01T11:27:15.876992",
     "exception": false,
     "start_time": "2023-09-01T11:27:15.861268",
     "status": "completed"
    },
    "tags": []
   },
   "outputs": [],
   "source": [
    "def has_lucky_number(nums):\n",
    "    \"\"\"Return whether the given list of numbers is lucky. A lucky list contains\n",
    "    at least one number divisible by 7.\n",
    "    \"\"\"\n",
    "    for num in nums:\n",
    "        if num % 7 == 0:\n",
    "            return True\n",
    "        else:\n",
    "            return False"
   ]
  },
  {
   "cell_type": "markdown",
   "id": "3607f71e",
   "metadata": {
    "papermill": {
     "duration": 0.00617,
     "end_time": "2023-09-01T11:27:15.890441",
     "exception": false,
     "start_time": "2023-09-01T11:27:15.884271",
     "status": "completed"
    },
    "tags": []
   },
   "source": [
    "Try to identify the bug and fix it in the cell below:"
   ]
  },
  {
   "cell_type": "code",
   "execution_count": 3,
   "id": "9ccca594",
   "metadata": {
    "execution": {
     "iopub.execute_input": "2023-09-01T11:27:15.905086Z",
     "iopub.status.busy": "2023-09-01T11:27:15.904464Z",
     "iopub.status.idle": "2023-09-01T11:27:15.913783Z",
     "shell.execute_reply": "2023-09-01T11:27:15.912877Z"
    },
    "papermill": {
     "duration": 0.018764,
     "end_time": "2023-09-01T11:27:15.915660",
     "exception": false,
     "start_time": "2023-09-01T11:27:15.896896",
     "status": "completed"
    },
    "tags": []
   },
   "outputs": [
    {
     "data": {
      "application/javascript": [
       "parent.postMessage({\"jupyterEvent\": \"custom.exercise_interaction\", \"data\": {\"outcomeType\": 1, \"valueTowardsCompletion\": 0.25, \"interactionType\": 1, \"questionType\": 2, \"questionId\": \"1_EarlyExitDebugging\", \"learnToolsVersion\": \"0.3.4\", \"failureMessage\": \"\", \"exceptionClass\": \"\", \"trace\": \"\"}}, \"*\")"
      ],
      "text/plain": [
       "<IPython.core.display.Javascript object>"
      ]
     },
     "metadata": {},
     "output_type": "display_data"
    },
    {
     "data": {
      "text/markdown": [
       "<span style=\"color:#33cc33\">Correct:</span> \n",
       "\n",
       "Remember that `return` causes a function to exit immediately. So our original implementation always ran for just one iteration. We can only return `False` if we've looked at every element of the list (and confirmed that none of them are lucky). Though we can return early if the answer is `True`:\n",
       "\n",
       "```python\n",
       "def has_lucky_number(nums):\n",
       "    for num in nums:\n",
       "        if num % 7 == 0:\n",
       "            return True\n",
       "    # We've exhausted the list without finding a lucky number\n",
       "    return False\n",
       "```\n",
       "\n",
       "Here's a one-line version using a list comprehension with Python's `any` function (you can read about what it does by calling `help(any)`):\n",
       "\n",
       "```python\n",
       "def has_lucky_number(nums):\n",
       "    return any([num % 7 == 0 for num in nums])\n",
       "```\n"
      ],
      "text/plain": [
       "Correct: \n",
       "\n",
       "Remember that `return` causes a function to exit immediately. So our original implementation always ran for just one iteration. We can only return `False` if we've looked at every element of the list (and confirmed that none of them are lucky). Though we can return early if the answer is `True`:\n",
       "\n",
       "```python\n",
       "def has_lucky_number(nums):\n",
       "    for num in nums:\n",
       "        if num % 7 == 0:\n",
       "            return True\n",
       "    # We've exhausted the list without finding a lucky number\n",
       "    return False\n",
       "```\n",
       "\n",
       "Here's a one-line version using a list comprehension with Python's `any` function (you can read about what it does by calling `help(any)`):\n",
       "\n",
       "```python\n",
       "def has_lucky_number(nums):\n",
       "    return any([num % 7 == 0 for num in nums])\n",
       "```"
      ]
     },
     "metadata": {},
     "output_type": "display_data"
    }
   ],
   "source": [
    "def has_lucky_number(nums):\n",
    "    \"\"\"Return whether the given list of numbers is lucky. A lucky list contains\n",
    "    at least one number divisible by 7.\n",
    "    \"\"\"\n",
    "    for num in nums:\n",
    "        if num % 7 == 0:\n",
    "            return True\n",
    "    return False\n",
    "\n",
    "# Check your answer\n",
    "q1.check()"
   ]
  },
  {
   "cell_type": "code",
   "execution_count": 4,
   "id": "c81cd5c1",
   "metadata": {
    "execution": {
     "iopub.execute_input": "2023-09-01T11:27:15.930657Z",
     "iopub.status.busy": "2023-09-01T11:27:15.930292Z",
     "iopub.status.idle": "2023-09-01T11:27:15.934437Z",
     "shell.execute_reply": "2023-09-01T11:27:15.933347Z"
    },
    "papermill": {
     "duration": 0.014295,
     "end_time": "2023-09-01T11:27:15.936665",
     "exception": false,
     "start_time": "2023-09-01T11:27:15.922370",
     "status": "completed"
    },
    "tags": []
   },
   "outputs": [],
   "source": [
    "#q1.hint()\n",
    "#q1.solution()"
   ]
  },
  {
   "cell_type": "markdown",
   "id": "8b9ee90c",
   "metadata": {
    "papermill": {
     "duration": 0.00659,
     "end_time": "2023-09-01T11:27:15.950298",
     "exception": false,
     "start_time": "2023-09-01T11:27:15.943708",
     "status": "completed"
    },
    "tags": []
   },
   "source": [
    "# 2.\n",
    "Look at the Python expression below. What do you think we'll get when we run it? When you've made your prediction, uncomment the code and run the cell to see if you were right."
   ]
  },
  {
   "cell_type": "code",
   "execution_count": 5,
   "id": "73cea1e1",
   "metadata": {
    "execution": {
     "iopub.execute_input": "2023-09-01T11:27:15.965915Z",
     "iopub.status.busy": "2023-09-01T11:27:15.965172Z",
     "iopub.status.idle": "2023-09-01T11:27:15.969924Z",
     "shell.execute_reply": "2023-09-01T11:27:15.968684Z"
    },
    "papermill": {
     "duration": 0.014902,
     "end_time": "2023-09-01T11:27:15.972050",
     "exception": false,
     "start_time": "2023-09-01T11:27:15.957148",
     "status": "completed"
    },
    "tags": []
   },
   "outputs": [],
   "source": [
    "#[1, 2, 3, 4] > 2"
   ]
  },
  {
   "cell_type": "markdown",
   "id": "0b61164b",
   "metadata": {
    "papermill": {
     "duration": 0.006747,
     "end_time": "2023-09-01T11:27:15.985661",
     "exception": false,
     "start_time": "2023-09-01T11:27:15.978914",
     "status": "completed"
    },
    "tags": []
   },
   "source": [
    "R and Python have some libraries (like numpy and pandas) compare each element of the list to 2 (i.e. do an 'element-wise' comparison) and give us a list of booleans like `[False, False, True, True]`. \n",
    "\n",
    "Implement a function that reproduces this behaviour, returning a list of booleans corresponding to whether the corresponding element is greater than n."
   ]
  },
  {
   "cell_type": "code",
   "execution_count": 6,
   "id": "aa5bab32",
   "metadata": {
    "execution": {
     "iopub.execute_input": "2023-09-01T11:27:16.001373Z",
     "iopub.status.busy": "2023-09-01T11:27:16.000626Z",
     "iopub.status.idle": "2023-09-01T11:27:16.009693Z",
     "shell.execute_reply": "2023-09-01T11:27:16.008928Z"
    },
    "papermill": {
     "duration": 0.01927,
     "end_time": "2023-09-01T11:27:16.011684",
     "exception": false,
     "start_time": "2023-09-01T11:27:15.992414",
     "status": "completed"
    },
    "tags": []
   },
   "outputs": [
    {
     "data": {
      "application/javascript": [
       "parent.postMessage({\"jupyterEvent\": \"custom.exercise_interaction\", \"data\": {\"outcomeType\": 1, \"valueTowardsCompletion\": 0.25, \"interactionType\": 1, \"questionType\": 2, \"questionId\": \"2_ElementWiseComparison\", \"learnToolsVersion\": \"0.3.4\", \"failureMessage\": \"\", \"exceptionClass\": \"\", \"trace\": \"\"}}, \"*\")"
      ],
      "text/plain": [
       "<IPython.core.display.Javascript object>"
      ]
     },
     "metadata": {},
     "output_type": "display_data"
    },
    {
     "data": {
      "text/markdown": [
       "<span style=\"color:#33cc33\">Correct:</span> \n",
       "\n",
       "Here's one solution:\n",
       "```python\n",
       "def elementwise_greater_than(L, thresh):\n",
       "    res = []\n",
       "    for ele in L:\n",
       "        res.append(ele > thresh)\n",
       "    return res\n",
       "```\n",
       "\n",
       "And here's the list comprehension version:\n",
       "```python\n",
       "def elementwise_greater_than(L, thresh):\n",
       "    return [ele > thresh for ele in L]\n",
       "```\n"
      ],
      "text/plain": [
       "Correct: \n",
       "\n",
       "Here's one solution:\n",
       "```python\n",
       "def elementwise_greater_than(L, thresh):\n",
       "    res = []\n",
       "    for ele in L:\n",
       "        res.append(ele > thresh)\n",
       "    return res\n",
       "```\n",
       "\n",
       "And here's the list comprehension version:\n",
       "```python\n",
       "def elementwise_greater_than(L, thresh):\n",
       "    return [ele > thresh for ele in L]\n",
       "```"
      ]
     },
     "metadata": {},
     "output_type": "display_data"
    }
   ],
   "source": [
    "def elementwise_greater_than(L, thresh):\n",
    "    \"\"\"Return a list with the same length as L, where the value at index i is \n",
    "    True if L[i] is greater than thresh, and False otherwise.\n",
    "    \n",
    "    >>> elementwise_greater_than([1, 2, 3, 4], 2)\n",
    "    [False, False, True, True]\n",
    "    \"\"\"\n",
    "    return [num > thresh for num in L]\n",
    "\n",
    "# Check your answer\n",
    "q2.check()"
   ]
  },
  {
   "cell_type": "code",
   "execution_count": 7,
   "id": "43d16fac",
   "metadata": {
    "execution": {
     "iopub.execute_input": "2023-09-01T11:27:16.028008Z",
     "iopub.status.busy": "2023-09-01T11:27:16.027317Z",
     "iopub.status.idle": "2023-09-01T11:27:16.031365Z",
     "shell.execute_reply": "2023-09-01T11:27:16.030698Z"
    },
    "papermill": {
     "duration": 0.014464,
     "end_time": "2023-09-01T11:27:16.033274",
     "exception": false,
     "start_time": "2023-09-01T11:27:16.018810",
     "status": "completed"
    },
    "tags": []
   },
   "outputs": [],
   "source": [
    "#q2.solution()"
   ]
  },
  {
   "cell_type": "markdown",
   "id": "1968f940",
   "metadata": {
    "papermill": {
     "duration": 0.006784,
     "end_time": "2023-09-01T11:27:16.047248",
     "exception": false,
     "start_time": "2023-09-01T11:27:16.040464",
     "status": "completed"
    },
    "tags": []
   },
   "source": [
    "# 3.\n",
    "\n",
    "Complete the body of the function below according to its docstring."
   ]
  },
  {
   "cell_type": "code",
   "execution_count": 8,
   "id": "1f34d78f",
   "metadata": {
    "execution": {
     "iopub.execute_input": "2023-09-01T11:27:16.063451Z",
     "iopub.status.busy": "2023-09-01T11:27:16.062869Z",
     "iopub.status.idle": "2023-09-01T11:27:16.072004Z",
     "shell.execute_reply": "2023-09-01T11:27:16.071090Z"
    },
    "papermill": {
     "duration": 0.019662,
     "end_time": "2023-09-01T11:27:16.073895",
     "exception": false,
     "start_time": "2023-09-01T11:27:16.054233",
     "status": "completed"
    },
    "tags": []
   },
   "outputs": [
    {
     "data": {
      "application/javascript": [
       "parent.postMessage({\"jupyterEvent\": \"custom.exercise_interaction\", \"data\": {\"outcomeType\": 1, \"valueTowardsCompletion\": 0.25, \"interactionType\": 1, \"questionType\": 2, \"questionId\": \"3_BoringMenu\", \"learnToolsVersion\": \"0.3.4\", \"failureMessage\": \"\", \"exceptionClass\": \"\", \"trace\": \"\"}}, \"*\")"
      ],
      "text/plain": [
       "<IPython.core.display.Javascript object>"
      ]
     },
     "metadata": {},
     "output_type": "display_data"
    },
    {
     "data": {
      "text/markdown": [
       "<span style=\"color:#33cc33\">Correct:</span> \n",
       "\n",
       "\n",
       "\n",
       "```python\n",
       "def menu_is_boring(meals):\n",
       "    # Iterate over all indices of the list, except the last one\n",
       "    for i in range(len(meals)-1):\n",
       "        if meals[i] == meals[i+1]:\n",
       "            return True\n",
       "    return False\n",
       "```\n",
       "\n",
       "The key to our solution is the call to `range`. `range(len(meals))` would give us all the indices of `meals`. If we had used that range, the last iteration of the loop would be comparing the last element to the element after it, which is... `IndexError`! `range(len(meals)-1)` gives us all the indices except the index of the last element.\n",
       "\n",
       "But don't we need to check if `meals` is empty? Turns out that `range(0) == range(-1)` - they're both empty. So if `meals` has length 0 or 1, we just won't do any iterations of our for loop.\n"
      ],
      "text/plain": [
       "Correct: \n",
       "\n",
       "\n",
       "\n",
       "```python\n",
       "def menu_is_boring(meals):\n",
       "    # Iterate over all indices of the list, except the last one\n",
       "    for i in range(len(meals)-1):\n",
       "        if meals[i] == meals[i+1]:\n",
       "            return True\n",
       "    return False\n",
       "```\n",
       "\n",
       "The key to our solution is the call to `range`. `range(len(meals))` would give us all the indices of `meals`. If we had used that range, the last iteration of the loop would be comparing the last element to the element after it, which is... `IndexError`! `range(len(meals)-1)` gives us all the indices except the index of the last element.\n",
       "\n",
       "But don't we need to check if `meals` is empty? Turns out that `range(0) == range(-1)` - they're both empty. So if `meals` has length 0 or 1, we just won't do any iterations of our for loop."
      ]
     },
     "metadata": {},
     "output_type": "display_data"
    }
   ],
   "source": [
    "def menu_is_boring(meals):\n",
    "    \"\"\"Given a list of meals served over some period of time, return True if the\n",
    "    same meal has ever been served two days in a row, and False otherwise.\n",
    "    \"\"\"\n",
    "    for i in range(len(meals)-1):\n",
    "        if meals[i] == meals[i+1]:\n",
    "            return True\n",
    "    return False\n",
    "    \n",
    "# Check your answer\n",
    "q3.check()"
   ]
  },
  {
   "cell_type": "code",
   "execution_count": 9,
   "id": "3e8a6bf3",
   "metadata": {
    "execution": {
     "iopub.execute_input": "2023-09-01T11:27:16.090682Z",
     "iopub.status.busy": "2023-09-01T11:27:16.090089Z",
     "iopub.status.idle": "2023-09-01T11:27:16.094121Z",
     "shell.execute_reply": "2023-09-01T11:27:16.093348Z"
    },
    "papermill": {
     "duration": 0.014635,
     "end_time": "2023-09-01T11:27:16.095986",
     "exception": false,
     "start_time": "2023-09-01T11:27:16.081351",
     "status": "completed"
    },
    "tags": []
   },
   "outputs": [],
   "source": [
    "#q3.hint()\n",
    "#q3.solution()"
   ]
  },
  {
   "cell_type": "markdown",
   "id": "bb95f0fa",
   "metadata": {
    "papermill": {
     "duration": 0.007183,
     "end_time": "2023-09-01T11:27:16.110489",
     "exception": false,
     "start_time": "2023-09-01T11:27:16.103306",
     "status": "completed"
    },
    "tags": []
   },
   "source": [
    "# 4. <span title=\"A bit spicy\" style=\"color: darkgreen \">🌶️</span>\n",
    "\n",
    "Next to the Blackjack table, the Python Challenge Casino has a slot machine. You can get a result from the slot machine by calling `play_slot_machine()`. The number it returns is your winnings in dollars. Usually it returns 0.  But sometimes you'll get lucky and get a big payday. Try running it below:"
   ]
  },
  {
   "cell_type": "code",
   "execution_count": 10,
   "id": "77ac33a1",
   "metadata": {
    "execution": {
     "iopub.execute_input": "2023-09-01T11:27:16.126961Z",
     "iopub.status.busy": "2023-09-01T11:27:16.126345Z",
     "iopub.status.idle": "2023-09-01T11:27:16.132358Z",
     "shell.execute_reply": "2023-09-01T11:27:16.131499Z"
    },
    "papermill": {
     "duration": 0.016424,
     "end_time": "2023-09-01T11:27:16.134215",
     "exception": false,
     "start_time": "2023-09-01T11:27:16.117791",
     "status": "completed"
    },
    "tags": []
   },
   "outputs": [
    {
     "data": {
      "text/plain": [
       "0"
      ]
     },
     "execution_count": 10,
     "metadata": {},
     "output_type": "execute_result"
    }
   ],
   "source": [
    "play_slot_machine()"
   ]
  },
  {
   "cell_type": "markdown",
   "id": "9afe6565",
   "metadata": {
    "papermill": {
     "duration": 0.007477,
     "end_time": "2023-09-01T11:27:16.149288",
     "exception": false,
     "start_time": "2023-09-01T11:27:16.141811",
     "status": "completed"
    },
    "tags": []
   },
   "source": [
    "By the way, did we mention that each play costs $1? Don't worry, we'll send you the bill later.\n",
    "\n",
    "On average, how much money can you expect to gain (or lose) every time you play the machine?  The casino keeps it a secret, but you can estimate the average value of each pull using a technique called the **Monte Carlo method**. To estimate the average outcome, we simulate the scenario many times, and return the average result.\n",
    "\n",
    "Complete the following function to calculate the average value per play of the slot machine."
   ]
  },
  {
   "cell_type": "code",
   "execution_count": 11,
   "id": "19a8e9ae",
   "metadata": {
    "execution": {
     "iopub.execute_input": "2023-09-01T11:27:16.167200Z",
     "iopub.status.busy": "2023-09-01T11:27:16.166553Z",
     "iopub.status.idle": "2023-09-01T11:27:19.983988Z",
     "shell.execute_reply": "2023-09-01T11:27:19.982979Z"
    },
    "papermill": {
     "duration": 3.829067,
     "end_time": "2023-09-01T11:27:19.986331",
     "exception": false,
     "start_time": "2023-09-01T11:27:16.157264",
     "status": "completed"
    },
    "tags": []
   },
   "outputs": [
    {
     "data": {
      "text/plain": [
       "0.02750185"
      ]
     },
     "execution_count": 11,
     "metadata": {},
     "output_type": "execute_result"
    }
   ],
   "source": [
    "def estimate_average_slot_payout(n_runs):\n",
    "    \"\"\"Run the slot machine n_runs times and return the average net profit per run.\n",
    "    Example calls (note that return value is nondeterministic!):\n",
    "    >>> estimate_average_slot_payout(1)\n",
    "    -1\n",
    "    >>> estimate_average_slot_payout(1)\n",
    "    0.5\n",
    "    \"\"\"\n",
    "    payouts = [play_slot_machine()-1 for i in range(n_runs)]\n",
    "    \n",
    "    avg_payout = sum(payouts) / n_runs\n",
    "    return avg_payout\n",
    "\n",
    "estimate_average_slot_payout(10000000)"
   ]
  },
  {
   "cell_type": "markdown",
   "id": "08ec1e1c",
   "metadata": {
    "papermill": {
     "duration": 0.007859,
     "end_time": "2023-09-01T11:27:20.001970",
     "exception": false,
     "start_time": "2023-09-01T11:27:19.994111",
     "status": "completed"
    },
    "tags": []
   },
   "source": [
    "When you think you know the expected value per spin, run the code cell below to view the solution and get credit for answering the question."
   ]
  },
  {
   "cell_type": "code",
   "execution_count": 12,
   "id": "3347a358",
   "metadata": {
    "execution": {
     "iopub.execute_input": "2023-09-01T11:27:20.018619Z",
     "iopub.status.busy": "2023-09-01T11:27:20.018256Z",
     "iopub.status.idle": "2023-09-01T11:27:20.026948Z",
     "shell.execute_reply": "2023-09-01T11:27:20.025874Z"
    },
    "papermill": {
     "duration": 0.019505,
     "end_time": "2023-09-01T11:27:20.029004",
     "exception": false,
     "start_time": "2023-09-01T11:27:20.009499",
     "status": "completed"
    },
    "tags": []
   },
   "outputs": [
    {
     "data": {
      "application/javascript": [
       "parent.postMessage({\"jupyterEvent\": \"custom.exercise_interaction\", \"data\": {\"interactionType\": 3, \"questionType\": 4, \"questionId\": \"4_ExpectedSlotsPayout\", \"learnToolsVersion\": \"0.3.4\", \"valueTowardsCompletion\": 0.0, \"failureMessage\": \"\", \"exceptionClass\": \"\", \"trace\": \"\", \"outcomeType\": 4}}, \"*\")"
      ],
      "text/plain": [
       "<IPython.core.display.Javascript object>"
      ]
     },
     "metadata": {},
     "output_type": "display_data"
    },
    {
     "data": {
      "text/markdown": [
       "<span style=\"color:#33cc99\">Solution:</span> \n",
       "    \n",
       "The exact expected value of one pull of the slot machine is 0.025 - i.e. a little more than 2 cents.  See?  Not every game in the Python Challenge Casino is rigged against the player!\n",
       "\n",
       "In order to get this answer, you'll need to implement the `estimate_average_slot_payout(n_runs)` function to simulate pulling the slot machine `n_runs` times.  It should return the payout averaged over those `n_runs`.\n",
       "\n",
       "Then, once the function is defined, in order to estimate the average slot payout, we need only call the function.\n",
       "\n",
       "Because of the high variance of the outcome (there are some very rare high payout results that significantly affect the average) you might need to run your function with a very high value of `n_runs` to get a stable answer close to the true expectation.  For instance, you might use a value for `n_runs` of 1000000.\n",
       "\n",
       "Here's an example for how the function could look:\n",
       "```python\n",
       "def estimate_average_slot_payout(n_runs):\n",
       "    # Play slot machine n_runs times, calculate payout of each\n",
       "    payouts = [play_slot_machine()-1 for i in range(n_runs)]\n",
       "    # Calculate the average value\n",
       "    avg_payout = sum(payouts) / n_runs\n",
       "    return avg_payout\n",
       "    \n",
       "estimate_average_slot_payout(10000000)\n",
       "\n",
       "```\n",
       "\n",
       "This should return an answer close to 0.025!\n",
       "            \n"
      ],
      "text/plain": [
       "Solution: \n",
       "    \n",
       "The exact expected value of one pull of the slot machine is 0.025 - i.e. a little more than 2 cents.  See?  Not every game in the Python Challenge Casino is rigged against the player!\n",
       "\n",
       "In order to get this answer, you'll need to implement the `estimate_average_slot_payout(n_runs)` function to simulate pulling the slot machine `n_runs` times.  It should return the payout averaged over those `n_runs`.\n",
       "\n",
       "Then, once the function is defined, in order to estimate the average slot payout, we need only call the function.\n",
       "\n",
       "Because of the high variance of the outcome (there are some very rare high payout results that significantly affect the average) you might need to run your function with a very high value of `n_runs` to get a stable answer close to the true expectation.  For instance, you might use a value for `n_runs` of 1000000.\n",
       "\n",
       "Here's an example for how the function could look:\n",
       "```python\n",
       "def estimate_average_slot_payout(n_runs):\n",
       "    # Play slot machine n_runs times, calculate payout of each\n",
       "    payouts = [play_slot_machine()-1 for i in range(n_runs)]\n",
       "    # Calculate the average value\n",
       "    avg_payout = sum(payouts) / n_runs\n",
       "    return avg_payout\n",
       "    \n",
       "estimate_average_slot_payout(10000000)\n",
       "\n",
       "```\n",
       "\n",
       "This should return an answer close to 0.025!\n",
       "            "
      ]
     },
     "metadata": {},
     "output_type": "display_data"
    }
   ],
   "source": [
    "# Check your answer (Run this code cell to receive credit!)\n",
    "q4.solution()"
   ]
  },
  {
   "cell_type": "markdown",
   "id": "ae1a2590",
   "metadata": {
    "papermill": {
     "duration": 0.007944,
     "end_time": "2023-09-01T11:27:20.044993",
     "exception": false,
     "start_time": "2023-09-01T11:27:20.037049",
     "status": "completed"
    },
    "tags": []
   },
   "source": [
    "# Keep Going\n",
    "\n",
    "Many programmers report that dictionaries are their favorite data structure. You'll get to **[learn about them](https://www.kaggle.com/colinmorris/strings-and-dictionaries)** (as well as strings) in the next lesson."
   ]
  },
  {
   "cell_type": "markdown",
   "id": "c9401b97",
   "metadata": {
    "papermill": {
     "duration": 0.007681,
     "end_time": "2023-09-01T11:27:20.060495",
     "exception": false,
     "start_time": "2023-09-01T11:27:20.052814",
     "status": "completed"
    },
    "tags": []
   },
   "source": [
    "---\n",
    "\n",
    "\n",
    "\n",
    "\n",
    "*Have questions or comments? Visit the [course discussion forum](https://www.kaggle.com/learn/python/discussion) to chat with other learners.*"
   ]
  }
 ],
 "kernelspec": {
  "display_name": "Python 3",
  "language": "python",
  "name": "python3"
 },
 "language_info": {
  "codemirror_mode": {
   "name": "ipython",
   "version": 3
  },
  "file_extension": ".py",
  "mimetype": "text/x-python",
  "name": "python",
  "nbconvert_exporter": "python",
  "pygments_lexer": "ipython3",
  "version": "3.6.4"
 },
 "metadata": {
  "kernelspec": {
   "display_name": "Python 3",
   "language": "python",
   "name": "python3"
  },
  "language_info": {
   "codemirror_mode": {
    "name": "ipython",
    "version": 3
   },
   "file_extension": ".py",
   "mimetype": "text/x-python",
   "name": "python",
   "nbconvert_exporter": "python",
   "pygments_lexer": "ipython3",
   "version": "3.10.12"
  },
  "learntools_metadata": {
   "lesson_index": 4,
   "type": "exercise"
  },
  "papermill": {
   "default_parameters": {},
   "duration": 8.227192,
   "end_time": "2023-09-01T11:27:20.488195",
   "environment_variables": {},
   "exception": null,
   "input_path": "__notebook__.ipynb",
   "output_path": "__notebook__.ipynb",
   "parameters": {},
   "start_time": "2023-09-01T11:27:12.261003",
   "version": "2.4.0"
  }
 },
 "nbformat": 4,
 "nbformat_minor": 5
}
