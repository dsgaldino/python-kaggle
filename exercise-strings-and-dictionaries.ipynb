{
 "cells": [
  {
   "cell_type": "markdown",
   "id": "82b7ba8b",
   "metadata": {
    "papermill": {
     "duration": 0.009771,
     "end_time": "2023-09-01T12:30:44.780006",
     "exception": false,
     "start_time": "2023-09-01T12:30:44.770235",
     "status": "completed"
    },
    "tags": []
   },
   "source": [
    "**This notebook is an exercise in the [Python](https://www.kaggle.com/learn/python) course.  You can reference the tutorial at [this link](https://www.kaggle.com/colinmorris/strings-and-dictionaries).**\n",
    "\n",
    "---\n"
   ]
  },
  {
   "cell_type": "markdown",
   "id": "a4d5fba6",
   "metadata": {
    "papermill": {
     "duration": 0.00848,
     "end_time": "2023-09-01T12:30:44.797582",
     "exception": false,
     "start_time": "2023-09-01T12:30:44.789102",
     "status": "completed"
    },
    "tags": []
   },
   "source": [
    "You are almost done with the course. Nice job!\n",
    "\n",
    "We have a couple more interesting problems for you before you go. \n",
    "\n",
    "As always, run the setup code below before working on the questions."
   ]
  },
  {
   "cell_type": "code",
   "execution_count": 1,
   "id": "7b87d27c",
   "metadata": {
    "execution": {
     "iopub.execute_input": "2023-09-01T12:30:44.818428Z",
     "iopub.status.busy": "2023-09-01T12:30:44.817194Z",
     "iopub.status.idle": "2023-09-01T12:30:45.276215Z",
     "shell.execute_reply": "2023-09-01T12:30:45.275003Z"
    },
    "papermill": {
     "duration": 0.472173,
     "end_time": "2023-09-01T12:30:45.278696",
     "exception": false,
     "start_time": "2023-09-01T12:30:44.806523",
     "status": "completed"
    },
    "tags": []
   },
   "outputs": [
    {
     "name": "stdout",
     "output_type": "stream",
     "text": [
      "Setup complete.\n"
     ]
    }
   ],
   "source": [
    "from learntools.core import binder; binder.bind(globals())\n",
    "from learntools.python.ex6 import *\n",
    "print('Setup complete.')"
   ]
  },
  {
   "cell_type": "markdown",
   "id": "dd9f9c90",
   "metadata": {
    "papermill": {
     "duration": 0.008992,
     "end_time": "2023-09-01T12:30:45.296984",
     "exception": false,
     "start_time": "2023-09-01T12:30:45.287992",
     "status": "completed"
    },
    "tags": []
   },
   "source": [
    "Let's start with a string lightning round to warm up. What are the lengths of the strings below?\n",
    "\n",
    "For each of the five strings below, predict what `len()` would return when passed that string. Use the variable `length` to record your answer, then run the cell to check whether you were right.  \n",
    "\n",
    "# 0a."
   ]
  },
  {
   "cell_type": "code",
   "execution_count": 2,
   "id": "3ccfd02c",
   "metadata": {
    "execution": {
     "iopub.execute_input": "2023-09-01T12:30:45.317264Z",
     "iopub.status.busy": "2023-09-01T12:30:45.316739Z",
     "iopub.status.idle": "2023-09-01T12:30:45.327560Z",
     "shell.execute_reply": "2023-09-01T12:30:45.326392Z"
    },
    "papermill": {
     "duration": 0.023704,
     "end_time": "2023-09-01T12:30:45.329836",
     "exception": false,
     "start_time": "2023-09-01T12:30:45.306132",
     "status": "completed"
    },
    "tags": []
   },
   "outputs": [
    {
     "data": {
      "application/javascript": [
       "parent.postMessage({\"jupyterEvent\": \"custom.exercise_interaction\", \"data\": {\"outcomeType\": 1, \"valueTowardsCompletion\": 0.3333333333333333, \"interactionType\": 1, \"questionType\": 1, \"questionId\": \"0.1_ZA\", \"learnToolsVersion\": \"0.3.4\", \"failureMessage\": \"\", \"exceptionClass\": \"\", \"trace\": \"\"}}, \"*\")"
      ],
      "text/plain": [
       "<IPython.core.display.Javascript object>"
      ]
     },
     "metadata": {},
     "output_type": "display_data"
    },
    {
     "data": {
      "text/markdown": [
       "<span style=\"color:#33cc33\">Correct:</span> \n",
       "\n",
       "The empty string has length zero. Note that the empty string is also the only string that Python considers as False when converting to boolean."
      ],
      "text/plain": [
       "Correct: \n",
       "\n",
       "The empty string has length zero. Note that the empty string is also the only string that Python considers as False when converting to boolean."
      ]
     },
     "metadata": {},
     "output_type": "display_data"
    }
   ],
   "source": [
    "a = \"\"\n",
    "length = len(a)\n",
    "# ZERO\n",
    "q0.a.check()"
   ]
  },
  {
   "cell_type": "markdown",
   "id": "44c4c66a",
   "metadata": {
    "papermill": {
     "duration": 0.00928,
     "end_time": "2023-09-01T12:30:45.348629",
     "exception": false,
     "start_time": "2023-09-01T12:30:45.339349",
     "status": "completed"
    },
    "tags": []
   },
   "source": [
    "# 0b."
   ]
  },
  {
   "cell_type": "code",
   "execution_count": 3,
   "id": "7bd368c6",
   "metadata": {
    "execution": {
     "iopub.execute_input": "2023-09-01T12:30:45.369879Z",
     "iopub.status.busy": "2023-09-01T12:30:45.369446Z",
     "iopub.status.idle": "2023-09-01T12:30:45.379078Z",
     "shell.execute_reply": "2023-09-01T12:30:45.378270Z"
    },
    "papermill": {
     "duration": 0.022768,
     "end_time": "2023-09-01T12:30:45.381315",
     "exception": false,
     "start_time": "2023-09-01T12:30:45.358547",
     "status": "completed"
    },
    "tags": []
   },
   "outputs": [
    {
     "data": {
      "application/javascript": [
       "parent.postMessage({\"jupyterEvent\": \"custom.exercise_interaction\", \"data\": {\"outcomeType\": 1, \"valueTowardsCompletion\": 0.3333333333333333, \"interactionType\": 1, \"questionType\": 1, \"questionId\": \"0.2_ZB\", \"learnToolsVersion\": \"0.3.4\", \"failureMessage\": \"\", \"exceptionClass\": \"\", \"trace\": \"\"}}, \"*\")"
      ],
      "text/plain": [
       "<IPython.core.display.Javascript object>"
      ]
     },
     "metadata": {},
     "output_type": "display_data"
    },
    {
     "data": {
      "text/markdown": [
       "<span style=\"color:#33cc33\">Correct:</span> \n",
       "\n",
       "Keep in mind Python includes spaces (and punctuation) when counting string length."
      ],
      "text/plain": [
       "Correct: \n",
       "\n",
       "Keep in mind Python includes spaces (and punctuation) when counting string length."
      ]
     },
     "metadata": {},
     "output_type": "display_data"
    }
   ],
   "source": [
    "b = \"it's ok\"\n",
    "length = len(b)\n",
    "#7\n",
    "q0.b.check()"
   ]
  },
  {
   "cell_type": "markdown",
   "id": "7d244c94",
   "metadata": {
    "papermill": {
     "duration": 0.009742,
     "end_time": "2023-09-01T12:30:45.401480",
     "exception": false,
     "start_time": "2023-09-01T12:30:45.391738",
     "status": "completed"
    },
    "tags": []
   },
   "source": [
    "# 0c."
   ]
  },
  {
   "cell_type": "code",
   "execution_count": 4,
   "id": "d9b3c1d5",
   "metadata": {
    "execution": {
     "iopub.execute_input": "2023-09-01T12:30:45.422757Z",
     "iopub.status.busy": "2023-09-01T12:30:45.422401Z",
     "iopub.status.idle": "2023-09-01T12:30:45.430671Z",
     "shell.execute_reply": "2023-09-01T12:30:45.429847Z"
    },
    "papermill": {
     "duration": 0.021514,
     "end_time": "2023-09-01T12:30:45.432785",
     "exception": false,
     "start_time": "2023-09-01T12:30:45.411271",
     "status": "completed"
    },
    "tags": []
   },
   "outputs": [
    {
     "data": {
      "application/javascript": [
       "parent.postMessage({\"jupyterEvent\": \"custom.exercise_interaction\", \"data\": {\"outcomeType\": 1, \"valueTowardsCompletion\": 0.3333333333333333, \"interactionType\": 1, \"questionType\": 1, \"questionId\": \"0.3_ZC\", \"learnToolsVersion\": \"0.3.4\", \"failureMessage\": \"\", \"exceptionClass\": \"\", \"trace\": \"\"}}, \"*\")"
      ],
      "text/plain": [
       "<IPython.core.display.Javascript object>"
      ]
     },
     "metadata": {},
     "output_type": "display_data"
    },
    {
     "data": {
      "text/markdown": [
       "<span style=\"color:#33cc33\">Correct:</span> \n",
       "\n",
       "Even though we use different syntax to create it, the string `c` is identical to `b`. In particular, note that the backslash is not part of the string, so it doesn't contribute to its length."
      ],
      "text/plain": [
       "Correct: \n",
       "\n",
       "Even though we use different syntax to create it, the string `c` is identical to `b`. In particular, note that the backslash is not part of the string, so it doesn't contribute to its length."
      ]
     },
     "metadata": {},
     "output_type": "display_data"
    }
   ],
   "source": [
    "c = 'it\\'s ok'\n",
    "length = len(c)\n",
    "#7\n",
    "q0.c.check()"
   ]
  },
  {
   "cell_type": "markdown",
   "id": "0466bce7",
   "metadata": {
    "papermill": {
     "duration": 0.009923,
     "end_time": "2023-09-01T12:30:45.453043",
     "exception": false,
     "start_time": "2023-09-01T12:30:45.443120",
     "status": "completed"
    },
    "tags": []
   },
   "source": [
    "# 0d."
   ]
  },
  {
   "cell_type": "code",
   "execution_count": 5,
   "id": "a0f3c8d8",
   "metadata": {
    "execution": {
     "iopub.execute_input": "2023-09-01T12:30:45.475424Z",
     "iopub.status.busy": "2023-09-01T12:30:45.474965Z",
     "iopub.status.idle": "2023-09-01T12:30:45.483975Z",
     "shell.execute_reply": "2023-09-01T12:30:45.482898Z"
    },
    "papermill": {
     "duration": 0.0229,
     "end_time": "2023-09-01T12:30:45.486240",
     "exception": false,
     "start_time": "2023-09-01T12:30:45.463340",
     "status": "completed"
    },
    "tags": []
   },
   "outputs": [
    {
     "data": {
      "application/javascript": [
       "parent.postMessage({\"jupyterEvent\": \"custom.exercise_interaction\", \"data\": {\"outcomeType\": 1, \"valueTowardsCompletion\": 0.3333333333333333, \"interactionType\": 1, \"questionType\": 1, \"questionId\": \"0.4_ZD\", \"learnToolsVersion\": \"0.3.4\", \"failureMessage\": \"\", \"exceptionClass\": \"\", \"trace\": \"\"}}, \"*\")"
      ],
      "text/plain": [
       "<IPython.core.display.Javascript object>"
      ]
     },
     "metadata": {},
     "output_type": "display_data"
    },
    {
     "data": {
      "text/markdown": [
       "<span style=\"color:#33cc33\">Correct:</span> \n",
       "\n",
       "The fact that this string was created using triple-quote syntax doesn't make any difference in terms of its content or length. This string is exactly the same as `'hey'`."
      ],
      "text/plain": [
       "Correct: \n",
       "\n",
       "The fact that this string was created using triple-quote syntax doesn't make any difference in terms of its content or length. This string is exactly the same as `'hey'`."
      ]
     },
     "metadata": {},
     "output_type": "display_data"
    }
   ],
   "source": [
    "d = \"\"\"hey\"\"\"\n",
    "length = len(d)\n",
    "#3\n",
    "q0.d.check()"
   ]
  },
  {
   "cell_type": "markdown",
   "id": "4acd2045",
   "metadata": {
    "papermill": {
     "duration": 0.010572,
     "end_time": "2023-09-01T12:30:45.508017",
     "exception": false,
     "start_time": "2023-09-01T12:30:45.497445",
     "status": "completed"
    },
    "tags": []
   },
   "source": [
    "# 0e."
   ]
  },
  {
   "cell_type": "code",
   "execution_count": 6,
   "id": "16d9296d",
   "metadata": {
    "execution": {
     "iopub.execute_input": "2023-09-01T12:30:45.531806Z",
     "iopub.status.busy": "2023-09-01T12:30:45.531398Z",
     "iopub.status.idle": "2023-09-01T12:30:45.541140Z",
     "shell.execute_reply": "2023-09-01T12:30:45.540041Z"
    },
    "papermill": {
     "duration": 0.024564,
     "end_time": "2023-09-01T12:30:45.543493",
     "exception": false,
     "start_time": "2023-09-01T12:30:45.518929",
     "status": "completed"
    },
    "tags": []
   },
   "outputs": [
    {
     "data": {
      "application/javascript": [
       "parent.postMessage({\"jupyterEvent\": \"custom.exercise_interaction\", \"data\": {\"outcomeType\": 1, \"valueTowardsCompletion\": 0.3333333333333333, \"interactionType\": 1, \"questionType\": 1, \"questionId\": \"0.5_ZE\", \"learnToolsVersion\": \"0.3.4\", \"failureMessage\": \"\", \"exceptionClass\": \"\", \"trace\": \"\"}}, \"*\")"
      ],
      "text/plain": [
       "<IPython.core.display.Javascript object>"
      ]
     },
     "metadata": {},
     "output_type": "display_data"
    },
    {
     "data": {
      "text/markdown": [
       "<span style=\"color:#33cc33\">Correct:</span> \n",
       "\n",
       "The newline character is just a single character! (Even though we represent it to Python using a combination of two characters.)"
      ],
      "text/plain": [
       "Correct: \n",
       "\n",
       "The newline character is just a single character! (Even though we represent it to Python using a combination of two characters.)"
      ]
     },
     "metadata": {},
     "output_type": "display_data"
    }
   ],
   "source": [
    "e = '\\n'\n",
    "length = len(e)\n",
    "#1\n",
    "q0.e.check()"
   ]
  },
  {
   "cell_type": "markdown",
   "id": "232dbb4a",
   "metadata": {
    "papermill": {
     "duration": 0.010886,
     "end_time": "2023-09-01T12:30:45.565391",
     "exception": false,
     "start_time": "2023-09-01T12:30:45.554505",
     "status": "completed"
    },
    "tags": []
   },
   "source": [
    "# 1.\n",
    "\n",
    "There is a saying that \"Data scientists spend 80% of their time cleaning data, and 20% of their time complaining about cleaning data.\" Let's see if you can write a function to help clean US zip code data. Given a string, it should return whether or not that string represents a valid zip code. For our purposes, a valid zip code is any string consisting of exactly 5 digits.\n",
    "\n",
    "HINT: `str` has a method that will be useful here. Use `help(str)` to review a list of string methods."
   ]
  },
  {
   "cell_type": "code",
   "execution_count": 7,
   "id": "b3b3479d",
   "metadata": {
    "execution": {
     "iopub.execute_input": "2023-09-01T12:30:45.590172Z",
     "iopub.status.busy": "2023-09-01T12:30:45.589759Z",
     "iopub.status.idle": "2023-09-01T12:30:45.599571Z",
     "shell.execute_reply": "2023-09-01T12:30:45.598498Z"
    },
    "papermill": {
     "duration": 0.024762,
     "end_time": "2023-09-01T12:30:45.601776",
     "exception": false,
     "start_time": "2023-09-01T12:30:45.577014",
     "status": "completed"
    },
    "tags": []
   },
   "outputs": [
    {
     "data": {
      "application/javascript": [
       "parent.postMessage({\"jupyterEvent\": \"custom.exercise_interaction\", \"data\": {\"outcomeType\": 1, \"valueTowardsCompletion\": 0.3333333333333333, \"interactionType\": 1, \"questionType\": 2, \"questionId\": \"1_ZipValidator\", \"learnToolsVersion\": \"0.3.4\", \"failureMessage\": \"\", \"exceptionClass\": \"\", \"trace\": \"\"}}, \"*\")"
      ],
      "text/plain": [
       "<IPython.core.display.Javascript object>"
      ]
     },
     "metadata": {},
     "output_type": "display_data"
    },
    {
     "data": {
      "text/markdown": [
       "<span style=\"color:#33cc33\">Correct</span>"
      ],
      "text/plain": [
       "Correct"
      ]
     },
     "metadata": {},
     "output_type": "display_data"
    }
   ],
   "source": [
    "def is_valid_zip(zip_code):\n",
    "    \"\"\"Returns whether the input string is a valid (5 digit) zip code\n",
    "    \"\"\"\n",
    "    return len(zip_code) == 5 and zip_code.isdigit()\n",
    "\n",
    "# Check your answer\n",
    "q1.check()"
   ]
  },
  {
   "cell_type": "code",
   "execution_count": 8,
   "id": "24084425",
   "metadata": {
    "execution": {
     "iopub.execute_input": "2023-09-01T12:30:45.626385Z",
     "iopub.status.busy": "2023-09-01T12:30:45.626002Z",
     "iopub.status.idle": "2023-09-01T12:30:45.629824Z",
     "shell.execute_reply": "2023-09-01T12:30:45.628944Z"
    },
    "papermill": {
     "duration": 0.018817,
     "end_time": "2023-09-01T12:30:45.631904",
     "exception": false,
     "start_time": "2023-09-01T12:30:45.613087",
     "status": "completed"
    },
    "tags": []
   },
   "outputs": [],
   "source": [
    "#q1.hint()\n",
    "#q1.solution()"
   ]
  },
  {
   "cell_type": "markdown",
   "id": "d0040ab5",
   "metadata": {
    "papermill": {
     "duration": 0.011256,
     "end_time": "2023-09-01T12:30:45.654556",
     "exception": false,
     "start_time": "2023-09-01T12:30:45.643300",
     "status": "completed"
    },
    "tags": []
   },
   "source": [
    "# 2.\n",
    "\n",
    "A researcher has gathered thousands of news articles. But she wants to focus her attention on articles including a specific word. Complete the function below to help her filter her list of articles.\n",
    "\n",
    "Your function should meet the following criteria:\n",
    "\n",
    "- Do not include documents where the keyword string shows up only as a part of a larger word. For example, if she were looking for the keyword “closed”, you would not include the string “enclosed.” \n",
    "- She does not want you to distinguish upper case from lower case letters. So the phrase “Closed the case.” would be included when the keyword is “closed”\n",
    "- Do not let periods or commas affect what is matched. “It is closed.” would be included when the keyword is “closed”. But you can assume there are no other types of punctuation."
   ]
  },
  {
   "cell_type": "code",
   "execution_count": 9,
   "id": "9f4dd1f0",
   "metadata": {
    "execution": {
     "iopub.execute_input": "2023-09-01T12:30:45.678918Z",
     "iopub.status.busy": "2023-09-01T12:30:45.678502Z",
     "iopub.status.idle": "2023-09-01T12:30:45.691930Z",
     "shell.execute_reply": "2023-09-01T12:30:45.690787Z"
    },
    "papermill": {
     "duration": 0.028185,
     "end_time": "2023-09-01T12:30:45.694087",
     "exception": false,
     "start_time": "2023-09-01T12:30:45.665902",
     "status": "completed"
    },
    "tags": []
   },
   "outputs": [
    {
     "data": {
      "application/javascript": [
       "parent.postMessage({\"jupyterEvent\": \"custom.exercise_interaction\", \"data\": {\"outcomeType\": 1, \"valueTowardsCompletion\": 0.3333333333333333, \"interactionType\": 1, \"questionType\": 2, \"questionId\": \"2_WordSearch\", \"learnToolsVersion\": \"0.3.4\", \"failureMessage\": \"\", \"exceptionClass\": \"\", \"trace\": \"\"}}, \"*\")"
      ],
      "text/plain": [
       "<IPython.core.display.Javascript object>"
      ]
     },
     "metadata": {},
     "output_type": "display_data"
    },
    {
     "data": {
      "text/markdown": [
       "<span style=\"color:#33cc33\">Correct</span>"
      ],
      "text/plain": [
       "Correct"
      ]
     },
     "metadata": {},
     "output_type": "display_data"
    }
   ],
   "source": [
    "def word_search(doc_list, keyword):\n",
    "    \"\"\"\n",
    "    Takes a list of documents (each document is a string) and a keyword. \n",
    "    Returns list of the index values into the original list for all documents \n",
    "    containing the keyword.\n",
    "\n",
    "    Example:\n",
    "    doc_list = [\"The Learn Python Challenge Casino.\", \"They bought a car\", \"Casinoville\"]\n",
    "    >>> word_search(doc_list, 'casino')\n",
    "    >>> [0]\n",
    "    \"\"\"    \n",
    "    index = []\n",
    "    \n",
    "    for key,doc in enumerate(doc_list):\n",
    "        words = doc.split()\n",
    "        cut_special_carc = [word.rstrip(\".,\").lower() for word in words]\n",
    "        \n",
    "        if keyword.lower() in cut_special_carc:\n",
    "            index.append(key)\n",
    "    return index\n",
    "    \n",
    "    \n",
    "# Check your answer\n",
    "q2.check()"
   ]
  },
  {
   "cell_type": "code",
   "execution_count": 10,
   "id": "6437ab54",
   "metadata": {
    "execution": {
     "iopub.execute_input": "2023-09-01T12:30:45.719884Z",
     "iopub.status.busy": "2023-09-01T12:30:45.719181Z",
     "iopub.status.idle": "2023-09-01T12:30:45.724390Z",
     "shell.execute_reply": "2023-09-01T12:30:45.723271Z"
    },
    "papermill": {
     "duration": 0.020639,
     "end_time": "2023-09-01T12:30:45.726739",
     "exception": false,
     "start_time": "2023-09-01T12:30:45.706100",
     "status": "completed"
    },
    "tags": []
   },
   "outputs": [],
   "source": [
    "#q2.hint()\n",
    "#q2.solution()"
   ]
  },
  {
   "cell_type": "markdown",
   "id": "3bd3ac56",
   "metadata": {
    "papermill": {
     "duration": 0.011389,
     "end_time": "2023-09-01T12:30:45.750176",
     "exception": false,
     "start_time": "2023-09-01T12:30:45.738787",
     "status": "completed"
    },
    "tags": []
   },
   "source": [
    "# 3.\n",
    "\n",
    "Now the researcher wants to supply multiple keywords to search for. Complete the function below to help her.\n",
    "\n",
    "(You're encouraged to use the `word_search` function you just wrote when implementing this function. Reusing code in this way makes your programs more robust and readable - and it saves typing!)"
   ]
  },
  {
   "cell_type": "code",
   "execution_count": 11,
   "id": "245d4caa",
   "metadata": {
    "execution": {
     "iopub.execute_input": "2023-09-01T12:30:45.775325Z",
     "iopub.status.busy": "2023-09-01T12:30:45.774897Z",
     "iopub.status.idle": "2023-09-01T12:30:45.784854Z",
     "shell.execute_reply": "2023-09-01T12:30:45.784023Z"
    },
    "papermill": {
     "duration": 0.025056,
     "end_time": "2023-09-01T12:30:45.787023",
     "exception": false,
     "start_time": "2023-09-01T12:30:45.761967",
     "status": "completed"
    },
    "tags": []
   },
   "outputs": [
    {
     "data": {
      "application/javascript": [
       "parent.postMessage({\"jupyterEvent\": \"custom.exercise_interaction\", \"data\": {\"outcomeType\": 1, \"valueTowardsCompletion\": 0.3333333333333333, \"interactionType\": 1, \"questionType\": 2, \"questionId\": \"3_MultiWordSearch\", \"learnToolsVersion\": \"0.3.4\", \"failureMessage\": \"\", \"exceptionClass\": \"\", \"trace\": \"\"}}, \"*\")"
      ],
      "text/plain": [
       "<IPython.core.display.Javascript object>"
      ]
     },
     "metadata": {},
     "output_type": "display_data"
    },
    {
     "data": {
      "text/markdown": [
       "<span style=\"color:#33cc33\">Correct</span>"
      ],
      "text/plain": [
       "Correct"
      ]
     },
     "metadata": {},
     "output_type": "display_data"
    }
   ],
   "source": [
    "def multi_word_search(doc_list, keywords):\n",
    "    \"\"\"\n",
    "    Takes list of documents (each document is a string) and a list of keywords.  \n",
    "    Returns a dictionary where each key is a keyword, and the value is a list of indices\n",
    "    (from doc_list) of the documents containing that keyword\n",
    "\n",
    "    >>> doc_list = [\"The Learn Python Challenge Casino.\", \"They bought a car and a casino\", \"Casinoville\"]\n",
    "    >>> keywords = ['casino', 'they']\n",
    "    >>> multi_word_search(doc_list, keywords)\n",
    "    {'casino': [0, 1], 'they': [1]}\n",
    "    \"\"\"\n",
    "    key_index = {}\n",
    "    for key in keywords:\n",
    "        key_index[key] = word_search(doc_list, key)\n",
    "    return key_index\n",
    "\n",
    "# Check your answer\n",
    "q3.check()"
   ]
  },
  {
   "cell_type": "code",
   "execution_count": 12,
   "id": "e90e78df",
   "metadata": {
    "execution": {
     "iopub.execute_input": "2023-09-01T12:30:45.812952Z",
     "iopub.status.busy": "2023-09-01T12:30:45.812541Z",
     "iopub.status.idle": "2023-09-01T12:30:45.817153Z",
     "shell.execute_reply": "2023-09-01T12:30:45.816109Z"
    },
    "papermill": {
     "duration": 0.020318,
     "end_time": "2023-09-01T12:30:45.819467",
     "exception": false,
     "start_time": "2023-09-01T12:30:45.799149",
     "status": "completed"
    },
    "tags": []
   },
   "outputs": [],
   "source": [
    "#q3.solution()"
   ]
  },
  {
   "cell_type": "markdown",
   "id": "fd105f3e",
   "metadata": {
    "papermill": {
     "duration": 0.011934,
     "end_time": "2023-09-01T12:30:45.843334",
     "exception": false,
     "start_time": "2023-09-01T12:30:45.831400",
     "status": "completed"
    },
    "tags": []
   },
   "source": [
    "# Keep Going\n",
    "\n",
    "You've learned a lot. But even the best programmers rely heavily on \"libraries\" of code from other programmers. You'll learn about that in **[the last lesson](https://www.kaggle.com/colinmorris/working-with-external-libraries)**.\n"
   ]
  },
  {
   "cell_type": "markdown",
   "id": "8a9c6dfe",
   "metadata": {
    "papermill": {
     "duration": 0.01163,
     "end_time": "2023-09-01T12:30:45.866887",
     "exception": false,
     "start_time": "2023-09-01T12:30:45.855257",
     "status": "completed"
    },
    "tags": []
   },
   "source": [
    "---\n",
    "\n",
    "\n",
    "\n",
    "\n",
    "*Have questions or comments? Visit the [course discussion forum](https://www.kaggle.com/learn/python/discussion) to chat with other learners.*"
   ]
  }
 ],
 "kernelspec": {
  "display_name": "Python 3",
  "language": "python",
  "name": "python3"
 },
 "language_info": {
  "codemirror_mode": {
   "name": "ipython",
   "version": 3
  },
  "file_extension": ".py",
  "mimetype": "text/x-python",
  "name": "python",
  "nbconvert_exporter": "python",
  "pygments_lexer": "ipython3",
  "version": "3.6.4"
 },
 "metadata": {
  "kernelspec": {
   "display_name": "Python 3",
   "language": "python",
   "name": "python3"
  },
  "language_info": {
   "codemirror_mode": {
    "name": "ipython",
    "version": 3
   },
   "file_extension": ".py",
   "mimetype": "text/x-python",
   "name": "python",
   "nbconvert_exporter": "python",
   "pygments_lexer": "ipython3",
   "version": "3.10.12"
  },
  "learntools_metadata": {
   "lesson_index": 5,
   "type": "exercise"
  },
  "papermill": {
   "default_parameters": {},
   "duration": 5.303712,
   "end_time": "2023-09-01T12:30:46.298490",
   "environment_variables": {},
   "exception": null,
   "input_path": "__notebook__.ipynb",
   "output_path": "__notebook__.ipynb",
   "parameters": {},
   "start_time": "2023-09-01T12:30:40.994778",
   "version": "2.4.0"
  }
 },
 "nbformat": 4,
 "nbformat_minor": 5
}
